{
 "cells": [
  {
   "cell_type": "markdown",
   "metadata": {},
   "source": [
    "<h3>Import Modules</h3>"
   ]
  },
  {
   "cell_type": "code",
   "execution_count": 11,
   "metadata": {},
   "outputs": [],
   "source": [
    "import warnings\n",
    "warnings.filterwarnings(\"ignore\", category=DeprecationWarning)"
   ]
  },
  {
   "cell_type": "code",
   "execution_count": 12,
   "metadata": {},
   "outputs": [],
   "source": [
    "import tensorflow as tf"
   ]
  },
  {
   "cell_type": "markdown",
   "metadata": {},
   "source": [
    "<h3>1. Types to execute a Session</h3>"
   ]
  },
  {
   "cell_type": "markdown",
   "metadata": {},
   "source": [
    "<h5>Build the graph</h5>"
   ]
  },
  {
   "cell_type": "code",
   "execution_count": 13,
   "metadata": {},
   "outputs": [],
   "source": [
    "node1 = tf.constant(3.0, tf.float32)\n",
    "node2 = tf.constant(4.0)"
   ]
  },
  {
   "cell_type": "markdown",
   "metadata": {},
   "source": [
    "<h5>1.1 Type 1</h5>"
   ]
  },
  {
   "cell_type": "code",
   "execution_count": 14,
   "metadata": {},
   "outputs": [
    {
     "name": "stdout",
     "output_type": "stream",
     "text": [
      "[3.0, 4.0]\n"
     ]
    }
   ],
   "source": [
    "# sess type 1\n",
    "sess = tf.Session()\n",
    "print(sess.run([node1,node2]))\n",
    "sess.close()"
   ]
  },
  {
   "cell_type": "markdown",
   "metadata": {},
   "source": [
    "<h5>1.2 Type 2</h5>"
   ]
  },
  {
   "cell_type": "code",
   "execution_count": 15,
   "metadata": {},
   "outputs": [
    {
     "name": "stdout",
     "output_type": "stream",
     "text": [
      "[3.0, 4.0]\n"
     ]
    }
   ],
   "source": [
    "# sess type 2\n",
    "with tf.Session() as sess:\n",
    "    output = sess.run([node1,node2])\n",
    "    print(output)"
   ]
  },
  {
   "cell_type": "markdown",
   "metadata": {},
   "source": [
    "<h3>2. Example of calculation </h3>"
   ]
  },
  {
   "cell_type": "code",
   "execution_count": 16,
   "metadata": {},
   "outputs": [
    {
     "name": "stdout",
     "output_type": "stream",
     "text": [
      "7.5\n"
     ]
    }
   ],
   "source": [
    "a = tf.constant(5.0)\n",
    "b = tf.constant(1.5)\n",
    "\n",
    "c = a*b\n",
    "\n",
    "sess = tf.Session()\n",
    "print(sess.run(c))\n",
    "sess.close()"
   ]
  },
  {
   "cell_type": "markdown",
   "metadata": {},
   "source": [
    "<h3> 3. TensorBoard</h3>"
   ]
  },
  {
   "cell_type": "code",
   "execution_count": 17,
   "metadata": {},
   "outputs": [],
   "source": [
    "File_Writer = tf.summary.FileWriter(\"tf_graph/\",sess.graph)"
   ]
  },
  {
   "cell_type": "markdown",
   "metadata": {},
   "source": [
    "Execute <b>tensorboard --logdir=\".\"</b> in terminal"
   ]
  },
  {
   "cell_type": "markdown",
   "metadata": {},
   "source": [
    "<h3>4. Constants</h3>\n",
    "<p>Constant tensors <b><i>take no input</i></b> from outside, but output whatever they have internally.</p>\n",
    "<p>So we cannot change or assign them different values.</p>"
   ]
  },
  {
   "cell_type": "code",
   "execution_count": 18,
   "metadata": {},
   "outputs": [
    {
     "name": "stdout",
     "output_type": "stream",
     "text": [
      "[5.0, 1.5]\n"
     ]
    }
   ],
   "source": [
    "a = tf.constant(5.0)\n",
    "b = tf.constant(1.5)\n",
    "\n",
    "sess = tf.Session()\n",
    "print(sess.run([a,b]))\n",
    "sess.close()"
   ]
  },
  {
   "cell_type": "markdown",
   "metadata": {},
   "source": [
    "<h3>5. Placeholders</h3>\n",
    "<p>A placeholder is a promise to <b>provide the imput later</b>.</p>\n",
    "<p>This is the case when we want the graph to accept external input.s</p>"
   ]
  },
  {
   "cell_type": "code",
   "execution_count": 19,
   "metadata": {},
   "outputs": [
    {
     "name": "stdout",
     "output_type": "stream",
     "text": [
      "[11. 22.]\n"
     ]
    }
   ],
   "source": [
    "a = tf.placeholder(tf.float32)\n",
    "b = tf.placeholder(tf.float32)\n",
    "\n",
    "add = a+b\n",
    "\n",
    "sess = tf.Session()\n",
    "print(sess.run(add,{a:[1,2],b:[10,20]}))\n",
    "sess.close()"
   ]
  },
  {
   "cell_type": "markdown",
   "metadata": {},
   "source": [
    "<h3> 6. Variables</h3>\n",
    "<p>Variables are those which <b>allow us to modify or update</b> their values.</p>\n",
    "<p>Thus in ML, weights and biases are often of type Variable, as they get updated for beter accuracies.</p>"
   ]
  },
  {
   "cell_type": "code",
   "execution_count": 20,
   "metadata": {},
   "outputs": [
    {
     "name": "stdout",
     "output_type": "stream",
     "text": [
      "[0.         0.3        0.6        0.90000004]\n"
     ]
    }
   ],
   "source": [
    "W = tf.Variable([.3],tf.float32)\n",
    "b = tf.Variable([-.3],tf.float32)\n",
    "x = tf.placeholder(tf.float32)\n",
    "\n",
    "init = tf.global_variables_initializer()\n",
    "\n",
    "linear_model = W*x + b\n",
    "sess = tf.Session()\n",
    "sess.run(init) #run it only after launching the model\n",
    "print(sess.run(linear_model,{x:[1,2,3,4]}))"
   ]
  },
  {
   "cell_type": "markdown",
   "metadata": {},
   "source": [
    "<h3>7. Simple Linear Model</h3>"
   ]
  },
  {
   "cell_type": "markdown",
   "metadata": {},
   "source": [
    "<p>We don't know how good this model is, till we know the error.</p>\n",
    "<p><b>Error / Loss</b> is the one which tells how far our model output is, from the actual label or desired outptut</p>\n",
    "<p> So we will need to calculate the error, update the parameters, check the output, and continue this process till output is optimal</p>"
   ]
  },
  {
   "cell_type": "code",
   "execution_count": 21,
   "metadata": {},
   "outputs": [
    {
     "data": {
      "text/plain": [
       "23.66"
      ]
     },
     "execution_count": 21,
     "metadata": {},
     "output_type": "execute_result"
    }
   ],
   "source": [
    "# Model parameters\n",
    "W = tf.Variable([.3],tf.float32)\n",
    "b = tf.Variable([-.3],tf.float32)\n",
    "\n",
    "# Input\n",
    "x = tf.placeholder(tf.float32)\n",
    "\n",
    "# Output\n",
    "y = tf.placeholder(tf.float32)\n",
    "\n",
    "# function\n",
    "linear_model = W*x + b\n",
    "\n",
    "# Loss\n",
    "squared_delta = tf.square(y - linear_model)\n",
    "loss = tf.reduce_sum(squared_delta)\n",
    "\n",
    "init = tf.global_variables_initializer()\n",
    "\n",
    "sess = tf.Session()\n",
    "sess.run(init) #run it only after launching the model\n",
    "sess.run(loss,{x:[1,2,3,4], y:[0,-1,-2,-3]})"
   ]
  },
  {
   "cell_type": "markdown",
   "metadata": {},
   "source": [
    "<p> By updating the parameter values, the loss is effected as shown below.</p>"
   ]
  },
  {
   "cell_type": "code",
   "execution_count": 22,
   "metadata": {},
   "outputs": [
    {
     "data": {
      "text/plain": [
       "0.0"
      ]
     },
     "execution_count": 22,
     "metadata": {},
     "output_type": "execute_result"
    }
   ],
   "source": [
    "# Model parameters\n",
    "W = tf.Variable([-1.],tf.float32)\n",
    "b = tf.Variable([1.],tf.float32)\n",
    "\n",
    "# Input\n",
    "x = tf.placeholder(tf.float32)\n",
    "\n",
    "# Output\n",
    "y = tf.placeholder(tf.float32)\n",
    "\n",
    "# function\n",
    "linear_model = W*x + b\n",
    "\n",
    "# Loss\n",
    "squared_delta = tf.square(y - linear_model)\n",
    "loss = tf.reduce_sum(squared_delta)\n",
    "\n",
    "init = tf.global_variables_initializer()\n",
    "\n",
    "sess = tf.Session()\n",
    "sess.run(init) #run it only after launching the model\n",
    "sess.run(loss,{x:[1,2,3,4], y:[0,-1,-2,-3]})\n",
    "\n"
   ]
  },
  {
   "cell_type": "markdown",
   "metadata": {},
   "source": [
    "<p>To make the machine learn the optimal parameters that could lead the model to give out the output such that the loss is minimum, we need <b>optimizers</b>.</p>\n",
    "<ul>\n",
    "<li>An <b>optimizer</b> will check the change in the loss with respect to the change in the variable.</li>\n",
    "\n",
    "<li>If the loss is decreasing, then it will keep on changing the variable in that particular direction.</li>\n",
    "</ul>\n",
    "<p> Let us use the famous <b>gradient descent</b> optimizer here.</p>"
   ]
  },
  {
   "cell_type": "code",
   "execution_count": 23,
   "metadata": {},
   "outputs": [
    {
     "name": "stdout",
     "output_type": "stream",
     "text": [
      "W: [-0.9999969] b:[0.9999908]\n"
     ]
    }
   ],
   "source": [
    "# Model parameters\n",
    "W = tf.Variable([.3],tf.float32)\n",
    "b = tf.Variable([-.3],tf.float32)\n",
    "\n",
    "# Input\n",
    "x = tf.placeholder(tf.float32)\n",
    "\n",
    "# Output\n",
    "y = tf.placeholder(tf.float32)\n",
    "\n",
    "# function\n",
    "linear_model = W*x + b\n",
    "\n",
    "# Loss\n",
    "squared_delta = tf.square(y - linear_model)\n",
    "loss = tf.reduce_sum(squared_delta)\n",
    "\n",
    "# Optimize\n",
    "optimizer = tf.train.GradientDescentOptimizer(0.01) # learning rate is the parameter\n",
    "train = optimizer.minimize(loss)\n",
    "\n",
    "init = tf.global_variables_initializer()\n",
    "\n",
    "sess = tf.Session()\n",
    "sess.run(init) #run it only after launching the model\n",
    "for i in range(1000):\n",
    "    sess.run(train,{x:[1,2,3,4], y:[0,-1,-2,-3]})\n",
    "# print(sess.run([W,b]))\n",
    "\n",
    "a,b = sess.run([W,b])\n",
    "print(\"W: \"+str(a)+\" b:\"+str(b))"
   ]
  },
  {
   "cell_type": "markdown",
   "metadata": {},
   "source": [
    "<h3>8. Implementation of Simple Usecase - Level Mine Identifier</h3>"
   ]
  },
  {
   "cell_type": "markdown",
   "metadata": {},
   "source": [
    "<p>This is the workflow very commonly followed while solving machine learning problems</p><br>\n",
    "<img src=\"tf-code-steps.png\" alt=\"WorkFlow\" height=\"100\" width=\"780\">"
   ]
  },
  {
   "cell_type": "markdown",
   "metadata": {},
   "source": [
    "<h5>8.1 Importing necesary libraries</h5>"
   ]
  },
  {
   "cell_type": "code",
   "execution_count": 24,
   "metadata": {},
   "outputs": [],
   "source": [
    "import numpy as np\n",
    "import pandas as pd\n",
    "import tensorflow as tf\n",
    "import matplotlib.pyplot as plt\n",
    "from sklearn.utils import shuffle\n",
    "from sklearn.preprocessing import LabelEncoder\n",
    "from sklearn.model_selection import train_test_split"
   ]
  },
  {
   "cell_type": "markdown",
   "metadata": {},
   "source": [
    "<h5>8.2 Read the data into Pandas dataframe</h5>"
   ]
  },
  {
   "cell_type": "code",
   "execution_count": 25,
   "metadata": {},
   "outputs": [],
   "source": [
    "def read_dataset():\n",
    "    df = pd.read_csv(\"sonar-data-set.csv\")\n",
    "    # X and y are np arrays\n",
    "    X = df[df.columns[0:60]].values\n",
    "    y = df[df.columns[60]]\n",
    "    \n",
    "    # Encode the dependent variable\n",
    "    encoder = LabelEncoder()\n",
    "    encoder.fit(y)\n",
    "    #encoder.classes_\n",
    "    y = encoder.transform(y)\n",
    "    Y = one_hot_encode(y)\n",
    "    return X,Y"
   ]
  },
  {
   "cell_type": "markdown",
   "metadata": {},
   "source": [
    "<h5>8.2 One hot encoding of labels vector</h5>"
   ]
  },
  {
   "cell_type": "code",
   "execution_count": 26,
   "metadata": {},
   "outputs": [],
   "source": [
    "def one_hot_encode(y):\n",
    "    n_labels = len(y)\n",
    "    n_unique_labels = len(np.unique(y))\n",
    "    one_hot_encode = np.zeros((n_labels,n_unique_labels))\n",
    "    one_hot_encode[np.arange(n_labels),y] = 1\n",
    "    return one_hot_encode"
   ]
  },
  {
   "cell_type": "markdown",
   "metadata": {},
   "source": [
    "<h5>8.3 Defining the Model</h5>"
   ]
  },
  {
   "cell_type": "code",
   "execution_count": 27,
   "metadata": {},
   "outputs": [],
   "source": [
    "def multilayer_perceptron(x, weights, biases):\n",
    "    \n",
    "    # Hidden layer with sigmoid activated\n",
    "    layer_1 = tf.add(tf.matmul(x,weights['h1']), biases['b1'])\n",
    "    layer_1 = tf.nn.sigmoid(layer_1)\n",
    "    \n",
    "    # Hidden layer with sigmoid activated\n",
    "    layer_2 = tf.add(tf.matmul(layer_1,weights['h2']), biases['b2'])\n",
    "    layer_2 = tf.nn.sigmoid(layer_2)\n",
    "    \n",
    "    # Hidden layer with sigmoid activated\n",
    "    layer_3 = tf.add(tf.matmul(layer_2,weights['h3']), biases['b3'])\n",
    "    layer_3 = tf.nn.sigmoid(layer_3)\n",
    "    \n",
    "    # Hidden layer with RELU activated\n",
    "    layer_4 = tf.add(tf.matmul(layer_3,weights['h4']), biases['b4'])\n",
    "    layer_4 = tf.nn.relu(layer_4)\n",
    "    \n",
    "    # Output layer with linear activation\n",
    "    out_layer = tf.matmul(layer_4, weights['out']+biases['out'])\n",
    "    return out_layer"
   ]
  },
  {
   "cell_type": "markdown",
   "metadata": {},
   "source": [
    "<h5>8.3 The Main Function</h5>"
   ]
  },
  {
   "cell_type": "code",
   "execution_count": 29,
   "metadata": {
    "scrolled": true
   },
   "outputs": [
    {
     "name": "stdout",
     "output_type": "stream",
     "text": [
      "('n_dim', 60)\n",
      "**\n",
      "(165, 60)\n",
      "(165, 2)\n",
      "(42, 60)\n",
      "(42, 2)\n"
     ]
    }
   ],
   "source": [
    "# Read the dataset\n",
    "X, Y = read_dataset()\n",
    "\n",
    "# Shuffle the dataset to mix up the rows\n",
    "X, Y = shuffle(X, Y, random_state = 1)\n",
    "\n",
    "# Convert the dataset into train and test part\n",
    "train_x, test_x, train_y, test_y = train_test_split(X, Y, test_size=0.2, random_state=415)\n",
    "\n",
    "# Inspect the shape of the training and testing\n",
    "# print(train_x.shape)\n",
    "# print(train_y.shape)\n",
    "# print(test_x.shape)\n",
    "# print(test_y.shape)\n",
    "\n",
    "# Define the important parametrs and variables to work with the tensors\n",
    "learning_rate = 0.01\n",
    "training_epochs = 1000\n",
    "cost_history = np.empty(shape = [1], dtype=float)\n",
    "n_dim = X.shape[1]\n",
    "print(\"n_dim\",n_dim)\n",
    "\n",
    "n_class = 2\n",
    "model_path = \"./model\"\n",
    "\n",
    "# Define the number of hidden layers and number of neurons for each layer\n",
    "n_hidden_1 = 60\n",
    "n_hidden_2 = 60\n",
    "n_hidden_3 = 60\n",
    "n_hidden_4 = 60\n",
    "\n",
    "x = tf.placeholder(tf.float32,[None,n_dim]) # None means any value\n",
    "W = tf.Variable(tf.zeros([n_dim,n_class]))\n",
    "b = tf.Variable(tf.zeros([n_class]))\n",
    "y_true = tf.placeholder(tf.float32,[None,n_class])\n",
    "\n",
    "weights = {\n",
    "    'h1': tf.Variable(tf.truncated_normal([n_dim,n_hidden_1])),\n",
    "    'h2': tf.Variable(tf.truncated_normal([n_hidden_1,n_hidden_2])),\n",
    "    'h3': tf.Variable(tf.truncated_normal([n_hidden_2,n_hidden_3])),\n",
    "    'h4': tf.Variable(tf.truncated_normal([n_hidden_3,n_hidden_4])),\n",
    "    'out': tf.Variable(tf.truncated_normal([n_hidden_4,n_class]))\n",
    "}\n",
    "\n",
    "biases = {\n",
    "    'b1': tf.Variable(tf.truncated_normal([n_hidden_1])),\n",
    "    'b2': tf.Variable(tf.truncated_normal([n_hidden_2])),\n",
    "    'b3': tf.Variable(tf.truncated_normal([n_hidden_3])),\n",
    "    'b4': tf.Variable(tf.truncated_normal([n_hidden_4])),\n",
    "    'out': tf.Variable(tf.truncated_normal([n_class]))\n",
    "}\n",
    "\n",
    "# Initialize all the variables\n",
    "init = tf.global_variables_initializer()\n",
    "\n",
    "#  Saver object to save our model\n",
    "saver = tf.train.Saver()\n",
    "\n",
    "# Call your model defined\n",
    "y = multilayer_perceptron(x, weights, biases)\n",
    "\n",
    "# Define the cost function and optimizer\n",
    "cost_function = tf.reduce_mean(tf.nn.softmax_cross_entropy_with_logits(logits=y, labels=y_true))\n",
    "training_step = tf.train.GradientDescentOptimizer(learning_rate).minimize(cost_function)\n",
    "\n",
    "sess = tf.Session()\n",
    "sess.run(init)\n",
    "\n",
    "# Calculate the cost and accuracy for each epoch\n",
    "\n",
    "mse_history = []\n",
    "accuracy_history = []\n",
    "print(\"**\")\n",
    "print(train_x.shape)\n",
    "print(train_y.shape)\n",
    "print(test_x.shape)\n",
    "print(test_y.shape)\n",
    "\n",
    "\n",
    "for epoch in range(training_epochs):\n",
    "    sess.run(training_step, feed_dict={x:train_x, y_true:train_y})\n",
    "    cost = sess.run(cost_function, feed_dict={x:train_x, y_true:train_y})\n",
    "    cost_history = np.append(cost_history, cost)\n",
    "    correct_prediction = tf.equal(tf.argmax(y,1),tf.argmax(y_true,1))\n",
    "    accuracy = tf.reduce_mean(tf.cast(correct_prediction,tf.float32))\n",
    "    \n",
    "    pred_y = sess.run(y,feed_dict={x:test_x})\n",
    "    mse = tf.reduce_mean(tf.square(pred_y - test_y))\n",
    "    mse_ = sess.run(mse)\n",
    "    mse_history.append(mse_)\n",
    "    accuracy = sess.run(accuracy,feed_dict={x: train_x, y_true:train_y})\n",
    "    accuracy_history.append(accuracy)\n",
    "    \n",
    "#     print('epoch: ',epoch,' - ','cost:',cost,' -MSE:',mse_,\" -Train Accuracy: \",accuracy)\n",
    "save_path = saver.save(sess, model_path)\n",
    "\n"
   ]
  },
  {
   "cell_type": "code",
   "execution_count": 30,
   "metadata": {},
   "outputs": [
    {
     "data": {
      "image/png": "[encoded data removed]",
      "text/plain": [
       "<Figure size 432x288 with 1 Axes>"
      ]
     },
     "metadata": {},
     "output_type": "display_data"
    },
    {
     "data": {
      "image/png": "[encoded data removed]",
      "text/plain": [
       "<Figure size 432x288 with 1 Axes>"
      ]
     },
     "metadata": {},
     "output_type": "display_data"
    },
    {
     "name": "stdout",
     "output_type": "stream",
     "text": [
      "('Test Accuracy: ', 0.71428573)\n",
      "MSE: 528.6842\n"
     ]
    }
   ],
   "source": [
    "# Plot MSE and accuracy graph\n",
    "plt.title(\"MSE\")\n",
    "plt.plot(mse_history,'r')\n",
    "plt.show()\n",
    "plt.title(\"Accuracy\")\n",
    "plt.plot(accuracy_history)\n",
    "plt.show()\n",
    "    \n",
    "# Print the final accuracy\n",
    "correct_prediction = tf.equal(tf.argmax(y,1),tf.argmax(y_true,1))\n",
    "accuracy = tf.reduce_mean(tf.cast(correct_prediction,tf.float32))\n",
    "print(\"Test Accuracy: \",(sess.run(accuracy, feed_dict={x:test_x, y_true:test_y})))\n",
    "\n",
    "# Print final MSE\n",
    "pred_y = sess.run(y, feed_dict={x:test_x})\n",
    "mse = tf.reduce_mean(tf.square(pred_y-test_y))\n",
    "print(\"MSE: %.4f\"%sess.run(mse))"
   ]
  },
  {
   "cell_type": "code",
   "execution_count": 31,
   "metadata": {},
   "outputs": [
    {
     "name": "stdout",
     "output_type": "stream",
     "text": [
      "0.5555556\n",
      "5\n"
     ]
    },
    {
     "data": {
      "text/plain": [
       "False"
      ]
     },
     "execution_count": 31,
     "metadata": {},
     "output_type": "execute_result"
    }
   ],
   "source": [
    "#  Just to understand some of the functions used above\n",
    "\n",
    "a=tf.placeholder(tf.float32)\n",
    "b=tf.placeholder(tf.float32)\n",
    "c=tf.equal(tf.argmax(a,0),tf.argmax(b,0))\n",
    "d=tf.argmax(a,0)\n",
    "e=tf.reduce_mean(tf.square(a-b))\n",
    "\n",
    "sess = tf.Session()\n",
    "print(sess.run(e,feed_dict={a:np.array([1,1,1,1,1,0,0,0,0]),b:np.array([0,1,0,0,0,0,0,0,1])}))\n",
    "print(sess.run(d,feed_dict={a:np.array([1,1,1,1,1,10,10])}))\n",
    "sess.run(c,feed_dict={a:np.array([1,1,1,1,1,0,0,0,0]),b:np.array([0,1,0,0,0,0,0,0,1])})"
   ]
  },
  {
   "cell_type": "code",
   "execution_count": null,
   "metadata": {},
   "outputs": [],
   "source": []
  }
 ],
 "metadata": {
  "kernelspec": {
   "display_name": "Python [default]",
   "language": "python",
   "name": "python2"
  },
  "language_info": {
   "codemirror_mode": {
    "name": "ipython",
    "version": 2
   },
   "file_extension": ".py",
   "mimetype": "text/x-python",
   "name": "python",
   "nbconvert_exporter": "python",
   "pygments_lexer": "ipython2",
   "version": "2.7.15"
  }
 },
 "nbformat": 4,
 "nbformat_minor": 2
}
