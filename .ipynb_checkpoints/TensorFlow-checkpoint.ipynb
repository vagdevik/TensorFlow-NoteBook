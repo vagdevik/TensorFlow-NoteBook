{
 "cells": [
  {
   "cell_type": "markdown",
   "metadata": {},
   "source": [
    "<h3>Import Modules</h3>"
   ]
  },
  {
   "cell_type": "code",
   "execution_count": 2,
   "metadata": {},
   "outputs": [],
   "source": [
    "import warnings\n",
    "warnings.filterwarnings(\"ignore\", category=DeprecationWarning)"
   ]
  },
  {
   "cell_type": "code",
   "execution_count": 3,
   "metadata": {},
   "outputs": [],
   "source": [
    "import tensorflow as tf"
   ]
  },
  {
   "cell_type": "markdown",
   "metadata": {},
   "source": [
    "<h3>1. Types to execute a Session</h3>"
   ]
  },
  {
   "cell_type": "markdown",
   "metadata": {},
   "source": [
    "<h5>Build the graph</h5>"
   ]
  },
  {
   "cell_type": "code",
   "execution_count": 10,
   "metadata": {},
   "outputs": [],
   "source": [
    "node1 = tf.constant(3.0, tf.float32)\n",
    "node2 = tf.constant(4.0)"
   ]
  },
  {
   "cell_type": "markdown",
   "metadata": {},
   "source": [
    "<h5>1.1 Type 1</h5>"
   ]
  },
  {
   "cell_type": "code",
   "execution_count": 6,
   "metadata": {},
   "outputs": [
    {
     "name": "stdout",
     "output_type": "stream",
     "text": [
      "[3.0, 4.0]\n"
     ]
    }
   ],
   "source": [
    "# sess type 1\n",
    "sess = tf.Session()\n",
    "print(sess.run([node1,node2]))\n",
    "sess.close()"
   ]
  },
  {
   "cell_type": "markdown",
   "metadata": {},
   "source": [
    "<h5>1.2 Type 2</h5>"
   ]
  },
  {
   "cell_type": "code",
   "execution_count": 9,
   "metadata": {},
   "outputs": [
    {
     "name": "stdout",
     "output_type": "stream",
     "text": [
      "[3.0, 4.0]\n"
     ]
    }
   ],
   "source": [
    "# sess type 2\n",
    "with tf.Session() as sess:\n",
    "    output = sess.run([node1,node2])\n",
    "    print(output)"
   ]
  },
  {
   "cell_type": "markdown",
   "metadata": {},
   "source": [
    "<h3>2. Example of calculation </h3>"
   ]
  },
  {
   "cell_type": "code",
   "execution_count": 17,
   "metadata": {},
   "outputs": [
    {
     "name": "stdout",
     "output_type": "stream",
     "text": [
      "7.5\n"
     ]
    }
   ],
   "source": [
    "a = tf.constant(5.0)\n",
    "b = tf.constant(1.5)\n",
    "\n",
    "c = a*b\n",
    "\n",
    "sess = tf.Session()\n",
    "print(sess.run(c))\n",
    "sess.close()"
   ]
  },
  {
   "cell_type": "markdown",
   "metadata": {},
   "source": [
    "<h3> 3. TensorBoard</h3>"
   ]
  },
  {
   "cell_type": "code",
   "execution_count": 23,
   "metadata": {},
   "outputs": [],
   "source": [
    "File_Writer = tf.summary.FileWriter(\"tf_graph/\",sess.graph)"
   ]
  },
  {
   "cell_type": "markdown",
   "metadata": {},
   "source": [
    "Execute <b>tensorboard --logdir=\".\"</b> in terminal"
   ]
  },
  {
   "cell_type": "markdown",
   "metadata": {},
   "source": [
    "<h3>4. Constants</h3>"
   ]
  },
  {
   "cell_type": "code",
   "execution_count": 25,
   "metadata": {},
   "outputs": [
    {
     "name": "stdout",
     "output_type": "stream",
     "text": [
      "[5.0, 1.5]\n"
     ]
    }
   ],
   "source": [
    "a = tf.constant(5.0)\n",
    "b = tf.constant(1.5)\n",
    "\n",
    "sess = tf.Session()\n",
    "print(sess.run([a,b]))\n",
    "sess.close()"
   ]
  },
  {
   "cell_type": "markdown",
   "metadata": {},
   "source": [
    "<h3>5. Placeholders</h3>"
   ]
  },
  {
   "cell_type": "code",
   "execution_count": 29,
   "metadata": {},
   "outputs": [
    {
     "name": "stdout",
     "output_type": "stream",
     "text": [
      "[11. 22.]\n"
     ]
    }
   ],
   "source": [
    "a = tf.placeholder(tf.float32)\n",
    "b = tf.placeholder(tf.float32)\n",
    "\n",
    "add = a+b\n",
    "\n",
    "sess = tf.Session()\n",
    "print(sess.run(add,{a:[1,2],b:[10,20]}))\n",
    "sess.close()"
   ]
  },
  {
   "cell_type": "markdown",
   "metadata": {},
   "source": [
    "<h3> 6. Variables</h3>"
   ]
  },
  {
   "cell_type": "code",
   "execution_count": 31,
   "metadata": {},
   "outputs": [
    {
     "name": "stdout",
     "output_type": "stream",
     "text": [
      "[0.         0.3        0.6        0.90000004]\n"
     ]
    }
   ],
   "source": [
    "W = tf.Variable([.3],tf.float32)\n",
    "b = tf.Variable([-.3],tf.float32)\n",
    "x = tf.placeholder(tf.float32)\n",
    "\n",
    "init = tf.global_variables_initializer()\n",
    "\n",
    "linear_model = W*x + b\n",
    "sess = tf.Session()\n",
    "sess.run(init) #run it only after launching the model\n",
    "print(sess.run(linear_model,{x:[1,2,3,4]}))"
   ]
  },
  {
   "cell_type": "markdown",
   "metadata": {},
   "source": [
    "<h3>7. Simple Linear Model</h3>"
   ]
  },
  {
   "cell_type": "markdown",
   "metadata": {},
   "source": [
    "<p>We don't know how good this model is, till we know the error.</p>\n",
    "<p><b>Error / Loss</b> is the one which tells how far our model output is, from the actual label or desired outptut</p>\n",
    "<p> So we will need to calculate the error, update the parameters, check the output, and continue this process till output is optimal</p>"
   ]
  },
  {
   "cell_type": "code",
   "execution_count": 39,
   "metadata": {},
   "outputs": [
    {
     "data": {
      "text/plain": [
       "23.66"
      ]
     },
     "execution_count": 39,
     "metadata": {},
     "output_type": "execute_result"
    }
   ],
   "source": [
    "# Model parameters\n",
    "W = tf.Variable([.3],tf.float32)\n",
    "b = tf.Variable([-.3],tf.float32)\n",
    "\n",
    "# Input\n",
    "x = tf.placeholder(tf.float32)\n",
    "\n",
    "# Output\n",
    "y = tf.placeholder(tf.float32)\n",
    "\n",
    "# function\n",
    "linear_model = W*x + b\n",
    "\n",
    "# Loss\n",
    "squared_delta = tf.square(y - linear_model)\n",
    "loss = tf.reduce_sum(squared_delta)\n",
    "\n",
    "init = tf.global_variables_initializer()\n",
    "\n",
    "sess = tf.Session()\n",
    "sess.run(init) #run it only after launching the model\n",
    "sess.run(loss,{x:[1,2,3,4], y:[0,-1,-2,-3]})"
   ]
  },
  {
   "cell_type": "markdown",
   "metadata": {},
   "source": [
    "<p> By updating the parameter values, the loss is effected as shown below.</p>"
   ]
  },
  {
   "cell_type": "code",
   "execution_count": 38,
   "metadata": {},
   "outputs": [
    {
     "data": {
      "text/plain": [
       "0.0"
      ]
     },
     "execution_count": 38,
     "metadata": {},
     "output_type": "execute_result"
    }
   ],
   "source": [
    "# Model parameters\n",
    "W = tf.Variable([-1.],tf.float32)\n",
    "b = tf.Variable([1.],tf.float32)\n",
    "\n",
    "# Input\n",
    "x = tf.placeholder(tf.float32)\n",
    "\n",
    "# Output\n",
    "y = tf.placeholder(tf.float32)\n",
    "\n",
    "# function\n",
    "linear_model = W*x + b\n",
    "\n",
    "# Loss\n",
    "squared_delta = tf.square(y - linear_model)\n",
    "loss = tf.reduce_sum(squared_delta)\n",
    "\n",
    "init = tf.global_variables_initializer()\n",
    "\n",
    "sess = tf.Session()\n",
    "sess.run(init) #run it only after launching the model\n",
    "sess.run(loss,{x:[1,2,3,4], y:[0,-1,-2,-3]})\n",
    "\n"
   ]
  },
  {
   "cell_type": "markdown",
   "metadata": {},
   "source": [
    "<p>To make the machine learn the optimal parameters that could lead the model to give out the output such that the loss is minimum, we need <b>optimizers</b>.</p>\n",
    "<ul>\n",
    "<li>An <b>optimizer</b> will check the change in the loss with respect to the change in the variable.</li>\n",
    "\n",
    "<li>If the loss is decreasing, then it will keep on changing the variable in that particular direction.</li>\n",
    "</ul>\n",
    "<p> Let us use the famous <b>gradient descent</b> optimizer here.</p>"
   ]
  },
  {
   "cell_type": "code",
   "execution_count": 44,
   "metadata": {},
   "outputs": [
    {
     "name": "stdout",
     "output_type": "stream",
     "text": [
      "W: [-0.9999969] b:[0.9999908]\n"
     ]
    }
   ],
   "source": [
    "# Model parameters\n",
    "W = tf.Variable([.3],tf.float32)\n",
    "b = tf.Variable([-.3],tf.float32)\n",
    "\n",
    "# Input\n",
    "x = tf.placeholder(tf.float32)\n",
    "\n",
    "# Output\n",
    "y = tf.placeholder(tf.float32)\n",
    "\n",
    "# function\n",
    "linear_model = W*x + b\n",
    "\n",
    "# Loss\n",
    "squared_delta = tf.square(y - linear_model)\n",
    "loss = tf.reduce_sum(squared_delta)\n",
    "\n",
    "# Optimize\n",
    "optimizer = tf.train.GradientDescentOptimizer(0.01) # learning rate is the parameter\n",
    "train = optimizer.minimize(loss)\n",
    "\n",
    "init = tf.global_variables_initializer()\n",
    "\n",
    "sess = tf.Session()\n",
    "sess.run(init) #run it only after launching the model\n",
    "for i in range(1000):\n",
    "    sess.run(train,{x:[1,2,3,4], y:[0,-1,-2,-3]})\n",
    "# print(sess.run([W,b]))\n",
    "\n",
    "a,b = sess.run([W,b])\n",
    "print(\"W: \"+str(a)+\" b:\"+str(b))"
   ]
  },
  {
   "cell_type": "markdown",
   "metadata": {},
   "source": [
    "<h3>8. Implementation of Simple Usecase - Level Mine Identifier</h3>"
   ]
  },
  {
   "cell_type": "markdown",
   "metadata": {},
   "source": [
    "<p>This is the workflow very commonly followed while solving machine learning problems</p><br>\n",
    "<img src=\"tf-code-steps.png\" alt=\"WorkFlow\" height=\"100\" width=\"780\">"
   ]
  },
  {
   "cell_type": "markdown",
   "metadata": {},
   "source": [
    "<h5>8.1 Importing necesary libraries</h5>"
   ]
  },
  {
   "cell_type": "code",
   "execution_count": 101,
   "metadata": {},
   "outputs": [],
   "source": [
    "import numpy as np\n",
    "import pandas as pd\n",
    "import tensorflow as tf\n",
    "import matplotlib.pyplot as plt\n",
    "from sklearn.utils import shuffle\n",
    "from sklearn.preprocessing import LabelEncoder\n",
    "from sklearn.model_selection import train_test_split"
   ]
  },
  {
   "cell_type": "markdown",
   "metadata": {},
   "source": [
    "<h5>8.2 Read the data into Pandas dataframe</h5>"
   ]
  },
  {
   "cell_type": "code",
   "execution_count": 102,
   "metadata": {},
   "outputs": [],
   "source": [
    "def read_dataset():\n",
    "    df = pd.read_csv(\"sonar-data-set.csv\")\n",
    "    # X and y are np arrays\n",
    "    X = df[df.columns[0:60]].values\n",
    "    y = df[df.columns[60]]\n",
    "    \n",
    "    # Encode the dependent variable\n",
    "    encoder = LabelEncoder()\n",
    "    encoder.fit(y)\n",
    "    #encoder.classes_\n",
    "    y = encoder.transform(y)\n",
    "    Y = one_hot_encode(y)\n",
    "    return X,Y"
   ]
  },
  {
   "cell_type": "markdown",
   "metadata": {},
   "source": [
    "<h5>8.2 One hot encoding of labels vector</h5>"
   ]
  },
  {
   "cell_type": "code",
   "execution_count": 103,
   "metadata": {},
   "outputs": [],
   "source": [
    "def one_hot_encode(y):\n",
    "    n_labels = len(y)\n",
    "    n_unique_labels = len(np.unique(y))\n",
    "    one_hot_encode = np.zeros((n_labels,n_unique_labels))\n",
    "    one_hot_encode[np.arange(n_labels),y] = 1\n",
    "    return one_hot_encode"
   ]
  },
  {
   "cell_type": "markdown",
   "metadata": {},
   "source": [
    "<h5>8.3 Defining the Model</h5>"
   ]
  },
  {
   "cell_type": "code",
   "execution_count": 104,
   "metadata": {},
   "outputs": [],
   "source": [
    "def multilayer_perceptron(x, weights, biases):\n",
    "    \n",
    "    # Hidden layer with sigmoid activated\n",
    "    layer_1 = tf.add(tf.matmul(x,weights['h1']), biases['b1'])\n",
    "    layer_1 = tf.nn.sigmoid(layer_1)\n",
    "    \n",
    "    # Hidden layer with sigmoid activated\n",
    "    layer_2 = tf.add(tf.matmul(layer_1,weights['h2']), biases['b2'])\n",
    "    layer_2 = tf.nn.sigmoid(layer_2)\n",
    "    \n",
    "    # Hidden layer with sigmoid activated\n",
    "    layer_3 = tf.add(tf.matmul(layer_2,weights['h3']), biases['b3'])\n",
    "    layer_3 = tf.nn.sigmoid(layer_3)\n",
    "    \n",
    "    # Hidden layer with RELU activated\n",
    "    layer_4 = tf.add(tf.matmul(layer_3,weights['h4']), biases['b4'])\n",
    "    layer_4 = tf.nn.relu(layer_4)\n",
    "    \n",
    "    # Output layer with linear activation\n",
    "    out_layer = tf.matmul(layer_4, weights['out']+biases['out'])\n",
    "    return out_layer"
   ]
  },
  {
   "cell_type": "markdown",
   "metadata": {},
   "source": [
    "<h5>8.3 The Main Function</h5>"
   ]
  },
  {
   "cell_type": "code",
   "execution_count": 105,
   "metadata": {
    "scrolled": true
   },
   "outputs": [
    {
     "name": "stdout",
     "output_type": "stream",
     "text": [
      "('n_dim', 60)\n",
      "**\n",
      "(165, 60)\n",
      "(165, 2)\n",
      "(42, 60)\n",
      "(42, 2)\n",
      "('epoch: ', 0, ' - ', 'cost:', 190.17783, ' -MSE:', 30240.20619304, ' -Train Accuracy: ', 0.45454547)\n",
      "('epoch: ', 1, ' - ', 'cost:', 13.149713, ' -MSE:', 153.25457399576132, ' -Train Accuracy: ', 0.45454547)\n",
      "('epoch: ', 2, ' - ', 'cost:', 0.6912224, ' -MSE:', 0.495294561526257, ' -Train Accuracy: ', 0.54545456)\n",
      "('epoch: ', 3, ' - ', 'cost:', 0.6909941, ' -MSE:', 0.49539002119118486, ' -Train Accuracy: ', 0.54545456)\n",
      "('epoch: ', 4, ' - ', 'cost:', 0.69078267, ' -MSE:', 0.4954908191591879, ' -Train Accuracy: ', 0.54545456)\n",
      "('epoch: ', 5, ' - ', 'cost:', 0.6905962, ' -MSE:', 0.495652384010668, ' -Train Accuracy: ', 0.55151516)\n",
      "('epoch: ', 6, ' - ', 'cost:', 0.6904399, ' -MSE:', 0.4956569448723102, ' -Train Accuracy: ', 0.55151516)\n",
      "('epoch: ', 7, ' - ', 'cost:', 0.6902869, ' -MSE:', 0.4956621967145933, ' -Train Accuracy: ', 0.55151516)\n",
      "('epoch: ', 8, ' - ', 'cost:', 0.69013673, ' -MSE:', 0.49566773171500295, ' -Train Accuracy: ', 0.55151516)\n",
      "('epoch: ', 9, ' - ', 'cost:', 0.68998915, ' -MSE:', 0.4956733088477611, ' -Train Accuracy: ', 0.55151516)\n",
      "('epoch: ', 10, ' - ', 'cost:', 0.68981636, ' -MSE:', 0.4956788473852742, ' -Train Accuracy: ', 0.55757576)\n",
      "('epoch: ', 11, ' - ', 'cost:', 0.6893015, ' -MSE:', 0.4941253907452837, ' -Train Accuracy: ', 0.55757576)\n",
      "('epoch: ', 12, ' - ', 'cost:', 0.6892475, ' -MSE:', 0.4930008459821979, ' -Train Accuracy: ', 0.55151516)\n",
      "('epoch: ', 13, ' - ', 'cost:', 0.68884945, ' -MSE:', 0.494227736018387, ' -Train Accuracy: ', 0.55757576)\n",
      "('epoch: ', 14, ' - ', 'cost:', 0.688392, ' -MSE:', 0.4927477422541811, ' -Train Accuracy: ', 0.55757576)\n",
      "('epoch: ', 15, ' - ', 'cost:', 0.6880372, ' -MSE:', 0.4920048760511865, ' -Train Accuracy: ', 0.55151516)\n",
      "('epoch: ', 16, ' - ', 'cost:', 0.687987, ' -MSE:', 0.49322581070577387, ' -Train Accuracy: ', 0.56363636)\n",
      "('epoch: ', 17, ' - ', 'cost:', 0.6873572, ' -MSE:', 0.49039598231740744, ' -Train Accuracy: ', 0.56969696)\n",
      "('epoch: ', 18, ' - ', 'cost:', 0.6867014, ' -MSE:', 0.48879774549048094, ' -Train Accuracy: ', 0.56363636)\n",
      "('epoch: ', 19, ' - ', 'cost:', 0.686053, ' -MSE:', 0.4882152945757009, ' -Train Accuracy: ', 0.56363636)\n",
      "('epoch: ', 20, ' - ', 'cost:', 0.685435, ' -MSE:', 0.4879315433281427, ' -Train Accuracy: ', 0.56363636)\n",
      "('epoch: ', 21, ' - ', 'cost:', 0.684844, ' -MSE:', 0.4876866427968269, ' -Train Accuracy: ', 0.56363636)\n",
      "('epoch: ', 22, ' - ', 'cost:', 0.6842782, ' -MSE:', 0.48745588871105994, ' -Train Accuracy: ', 0.56969696)\n",
      "('epoch: ', 23, ' - ', 'cost:', 0.6838345, ' -MSE:', 0.48713464936905465, ' -Train Accuracy: ', 0.57575756)\n",
      "('epoch: ', 24, ' - ', 'cost:', 0.68259966, ' -MSE:', 0.4832503232212167, ' -Train Accuracy: ', 0.57575756)\n",
      "('epoch: ', 25, ' - ', 'cost:', 0.68205005, ' -MSE:', 0.4830046592813622, ' -Train Accuracy: ', 0.58181816)\n",
      "('epoch: ', 26, ' - ', 'cost:', 0.6817291, ' -MSE:', 0.4794669157904937, ' -Train Accuracy: ', 0.58181816)\n",
      "('epoch: ', 27, ' - ', 'cost:', 0.6811546, ' -MSE:', 0.4826105786932318, ' -Train Accuracy: ', 0.58181816)\n",
      "('epoch: ', 28, ' - ', 'cost:', 0.6805853, ' -MSE:', 0.478888348097471, ' -Train Accuracy: ', 0.58181816)\n",
      "('epoch: ', 29, ' - ', 'cost:', 0.6800167, ' -MSE:', 0.4790399418381255, ' -Train Accuracy: ', 0.57575756)\n",
      "('epoch: ', 30, ' - ', 'cost:', 0.67980367, ' -MSE:', 0.481622149231194, ' -Train Accuracy: ', 0.58181816)\n",
      "('epoch: ', 31, ' - ', 'cost:', 0.6790594, ' -MSE:', 0.4783259188144455, ' -Train Accuracy: ', 0.58787876)\n",
      "('epoch: ', 32, ' - ', 'cost:', 0.6786397, ' -MSE:', 0.478370156194274, ' -Train Accuracy: ', 0.58181816)\n",
      "('epoch: ', 33, ' - ', 'cost:', 0.6782286, ' -MSE:', 0.4780677343361968, ' -Train Accuracy: ', 0.58181816)\n",
      "('epoch: ', 34, ' - ', 'cost:', 0.67782736, ' -MSE:', 0.47791133403246894, ' -Train Accuracy: ', 0.58181816)\n",
      "('epoch: ', 35, ' - ', 'cost:', 0.67742777, ' -MSE:', 0.4777480891349257, ' -Train Accuracy: ', 0.58787876)\n",
      "('epoch: ', 36, ' - ', 'cost:', 0.6761318, ' -MSE:', 0.4736689205190946, ' -Train Accuracy: ', 0.5939394)\n",
      "('epoch: ', 37, ' - ', 'cost:', 0.67533416, ' -MSE:', 0.4704412386591558, ' -Train Accuracy: ', 0.5939394)\n",
      "('epoch: ', 38, ' - ', 'cost:', 0.67516917, ' -MSE:', 0.47552859856865914, ' -Train Accuracy: ', 0.6060606)\n",
      "('epoch: ', 39, ' - ', 'cost:', 0.6745189, ' -MSE:', 0.46829189499965856, ' -Train Accuracy: ', 0.6181818)\n",
      "('epoch: ', 40, ' - ', 'cost:', 0.67321277, ' -MSE:', 0.4669104499586054, ' -Train Accuracy: ', 0.6060606)\n",
      "('epoch: ', 41, ' - ', 'cost:', 0.6720289, ' -MSE:', 0.4671150623673362, ' -Train Accuracy: ', 0.6)\n",
      "('epoch: ', 42, ' - ', 'cost:', 0.67072845, ' -MSE:', 0.46882286156723574, ' -Train Accuracy: ', 0.6060606)\n",
      "('epoch: ', 43, ' - ', 'cost:', 0.67025393, ' -MSE:', 0.466658147756268, ' -Train Accuracy: ', 0.6181818)\n",
      "('epoch: ', 44, ' - ', 'cost:', 0.6692073, ' -MSE:', 0.46646962529522845, ' -Train Accuracy: ', 0.6181818)\n",
      "('epoch: ', 45, ' - ', 'cost:', 0.6682412, ' -MSE:', 0.46751408810950085, ' -Train Accuracy: ', 0.6242424)\n",
      "('epoch: ', 46, ' - ', 'cost:', 0.66711235, ' -MSE:', 0.4662638774744363, ' -Train Accuracy: ', 0.6181818)\n",
      "('epoch: ', 47, ' - ', 'cost:', 0.66613245, ' -MSE:', 0.46709531886151917, ' -Train Accuracy: ', 0.6181818)\n",
      "('epoch: ', 48, ' - ', 'cost:', 0.6652225, ' -MSE:', 0.46629318052639473, ' -Train Accuracy: ', 0.630303)\n",
      "('epoch: ', 49, ' - ', 'cost:', 0.6646775, ' -MSE:', 0.46960774359341784, ' -Train Accuracy: ', 0.6121212)\n",
      "('epoch: ', 50, ' - ', 'cost:', 0.6653148, ' -MSE:', 0.4674684280204754, ' -Train Accuracy: ', 0.6121212)\n",
      "('epoch: ', 51, ' - ', 'cost:', 0.6627375, ' -MSE:', 0.4669403810632617, ' -Train Accuracy: ', 0.6363636)\n",
      "('epoch: ', 52, ' - ', 'cost:', 0.6626157, ' -MSE:', 0.47193674969034644, ' -Train Accuracy: ', 0.6181818)\n",
      "('epoch: ', 53, ' - ', 'cost:', 0.6631436, ' -MSE:', 0.46622150339216634, ' -Train Accuracy: ', 0.6181818)\n",
      "('epoch: ', 54, ' - ', 'cost:', 0.6601075, ' -MSE:', 0.4689384316776479, ' -Train Accuracy: ', 0.6242424)\n",
      "('epoch: ', 55, ' - ', 'cost:', 0.6598175, ' -MSE:', 0.4663897612055085, ' -Train Accuracy: ', 0.630303)\n",
      "('epoch: ', 56, ' - ', 'cost:', 0.659151, ' -MSE:', 0.47251642727964066, ' -Train Accuracy: ', 0.6242424)\n",
      "('epoch: ', 57, ' - ', 'cost:', 0.66106683, ' -MSE:', 0.4659304054283074, ' -Train Accuracy: ', 0.6242424)\n",
      "('epoch: ', 58, ' - ', 'cost:', 0.65776724, ' -MSE:', 0.473123359606635, ' -Train Accuracy: ', 0.6363636)\n",
      "('epoch: ', 59, ' - ', 'cost:', 0.6576508, ' -MSE:', 0.4654505061805854, ' -Train Accuracy: ', 0.6424242)\n",
      "('epoch: ', 60, ' - ', 'cost:', 0.6606671, ' -MSE:', 0.4863002425416725, ' -Train Accuracy: ', 0.6242424)\n",
      "('epoch: ', 61, ' - ', 'cost:', 0.6693814, ' -MSE:', 0.47838178202198867, ' -Train Accuracy: ', 0.6181818)\n",
      "('epoch: ', 62, ' - ', 'cost:', 0.6546828, ' -MSE:', 0.4682976934856165, ' -Train Accuracy: ', 0.6363636)\n",
      "('epoch: ', 63, ' - ', 'cost:', 0.6552707, ' -MSE:', 0.47911154512433185, ' -Train Accuracy: ', 0.6363636)\n",
      "('epoch: ', 64, ' - ', 'cost:', 0.65856457, ' -MSE:', 0.4646655915424804, ' -Train Accuracy: ', 0.630303)\n",
      "('epoch: ', 65, ' - ', 'cost:', 0.6561466, ' -MSE:', 0.4848777716884617, ' -Train Accuracy: ', 0.6181818)\n",
      "('epoch: ', 66, ' - ', 'cost:', 0.6692863, ' -MSE:', 0.47951418774398374, ' -Train Accuracy: ', 0.6181818)\n",
      "('epoch: ', 67, ' - ', 'cost:', 0.6525652, ' -MSE:', 0.4669800202733193, ' -Train Accuracy: ', 0.6424242)\n",
      "('epoch: ', 68, ' - ', 'cost:', 0.65544903, ' -MSE:', 0.4901134213896774, ' -Train Accuracy: ', 0.6242424)\n",
      "('epoch: ', 69, ' - ', 'cost:', 0.66785675, ' -MSE:', 0.478900624427548, ' -Train Accuracy: ', 0.6181818)\n",
      "('epoch: ', 70, ' - ', 'cost:', 0.6513238, ' -MSE:', 0.46685240138928397, ' -Train Accuracy: ', 0.6606061)\n",
      "('epoch: ', 71, ' - ', 'cost:', 0.6657886, ' -MSE:', 0.5157097591942147, ' -Train Accuracy: ', 0.57575756)\n",
      "('epoch: ', 72, ' - ', 'cost:', 0.6860371, ' -MSE:', 0.4912900687328759, ' -Train Accuracy: ', 0.55151516)\n",
      "('epoch: ', 73, ' - ', 'cost:', 0.682481, ' -MSE:', 0.48740849401255476, ' -Train Accuracy: ', 0.57575756)\n",
      "('epoch: ', 74, ' - ', 'cost:', 0.6787429, ' -MSE:', 0.48511065558294114, ' -Train Accuracy: ', 0.58181816)\n",
      "('epoch: ', 75, ' - ', 'cost:', 0.6741591, ' -MSE:', 0.4850705247691086, ' -Train Accuracy: ', 0.6060606)\n",
      "('epoch: ', 76, ' - ', 'cost:', 0.6617736, ' -MSE:', 0.47219868862256015, ' -Train Accuracy: ', 0.630303)\n"
     ]
    },
    {
     "name": "stdout",
     "output_type": "stream",
     "text": [
      "('epoch: ', 77, ' - ', 'cost:', 0.6475258, ' -MSE:', 0.48086531320079134, ' -Train Accuracy: ', 0.6545454)\n",
      "('epoch: ', 78, ' - ', 'cost:', 0.64684886, ' -MSE:', 0.4802547052084543, ' -Train Accuracy: ', 0.6545454)\n",
      "('epoch: ', 79, ' - ', 'cost:', 0.6461935, ' -MSE:', 0.4799867360799525, ' -Train Accuracy: ', 0.6484848)\n"
     ]
    },
    {
     "data": {
      "image/png": "[encoded data removed]",
      "text/plain": [
       "<Figure size 432x288 with 1 Axes>"
      ]
     },
     "metadata": {},
     "output_type": "display_data"
    },
    {
     "data": {
      "image/png": "[encoded data removed]",
      "text/plain": [
       "<Figure size 432x288 with 1 Axes>"
      ]
     },
     "metadata": {},
     "output_type": "display_data"
    },
    {
     "name": "stdout",
     "output_type": "stream",
     "text": [
      "('Test Accuracy: ', 0.64285713)\n",
      "MSE: 0.4800\n"
     ]
    }
   ],
   "source": [
    "# Read the dataset\n",
    "X, Y = read_dataset()\n",
    "\n",
    "# Shuffle the dataset to mix up the rows\n",
    "X, Y = shuffle(X, Y, random_state = 1)\n",
    "\n",
    "# Convert the dataset into train and test part\n",
    "train_x, test_x, train_y, test_y = train_test_split(X, Y, test_size=0.2, random_state=415)\n",
    "\n",
    "# Inspect the shape of the training and testing\n",
    "# print(train_x.shape)\n",
    "# print(train_y.shape)\n",
    "# print(test_x.shape)\n",
    "# print(test_y.shape)\n",
    "\n",
    "# Define the important parametrs and variables to work with the tensors\n",
    "learning_rate = 0.1\n",
    "training_epochs = 80\n",
    "cost_history = np.empty(shape = [1], dtype=float)\n",
    "n_dim = X.shape[1]\n",
    "print(\"n_dim\",n_dim)\n",
    "\n",
    "n_class = 2\n",
    "model_path = \"./model\"\n",
    "\n",
    "# Define the number of hidden layers and number of neurons for each layer\n",
    "n_hidden_1 = 60\n",
    "n_hidden_2 = 60\n",
    "n_hidden_3 = 60\n",
    "n_hidden_4 = 60\n",
    "\n",
    "x = tf.placeholder(tf.float32,[None,n_dim]) # None means any value\n",
    "W = tf.Variable(tf.zeros([n_dim,n_class]))\n",
    "b = tf.Variable(tf.zeros([n_class]))\n",
    "y_true = tf.placeholder(tf.float32,[None,n_class])\n",
    "\n",
    "weights = {\n",
    "    'h1': tf.Variable(tf.truncated_normal([n_dim,n_hidden_1])),\n",
    "    'h2': tf.Variable(tf.truncated_normal([n_hidden_1,n_hidden_2])),\n",
    "    'h3': tf.Variable(tf.truncated_normal([n_hidden_2,n_hidden_3])),\n",
    "    'h4': tf.Variable(tf.truncated_normal([n_hidden_3,n_hidden_4])),\n",
    "    'out': tf.Variable(tf.truncated_normal([n_hidden_4,n_class]))\n",
    "}\n",
    "\n",
    "biases = {\n",
    "    'b1': tf.Variable(tf.truncated_normal([n_hidden_1])),\n",
    "    'b2': tf.Variable(tf.truncated_normal([n_hidden_2])),\n",
    "    'b3': tf.Variable(tf.truncated_normal([n_hidden_3])),\n",
    "    'b4': tf.Variable(tf.truncated_normal([n_hidden_4])),\n",
    "    'out': tf.Variable(tf.truncated_normal([n_class]))\n",
    "}\n",
    "\n",
    "# Initialize all the variables\n",
    "init = tf.global_variables_initializer()\n",
    "\n",
    "#  Saver object to save our model\n",
    "saver = tf.train.Saver()\n",
    "\n",
    "# Call your model defined\n",
    "y = multilayer_perceptron(x, weights, biases)\n",
    "\n",
    "# Define the cost function and optimizer\n",
    "cost_function = tf.reduce_mean(tf.nn.softmax_cross_entropy_with_logits(logits=y, labels=y_true))\n",
    "training_step = tf.train.GradientDescentOptimizer(learning_rate).minimize(cost_function)\n",
    "\n",
    "sess = tf.Session()\n",
    "sess.run(init)\n",
    "\n",
    "# Calculate the cost and accuracy for each epoch\n",
    "\n",
    "mse_history = []\n",
    "accuracy_history = []\n",
    "print(\"**\")\n",
    "print(train_x.shape)\n",
    "print(train_y.shape)\n",
    "print(test_x.shape)\n",
    "print(test_y.shape)\n",
    "\n",
    "\n",
    "for epoch in range(training_epochs):\n",
    "    sess.run(training_step, feed_dict={x:train_x, y_true:train_y})\n",
    "    cost = sess.run(cost_function, feed_dict={x:train_x, y_true:train_y})\n",
    "    cost_history = np.append(cost_history, cost)\n",
    "    correct_prediction = tf.equal(tf.argmax(y,1),tf.argmax(y_true,1))\n",
    "    accuracy = tf.reduce_mean(tf.cast(correct_prediction,tf.float32))\n",
    "    \n",
    "    pred_y = sess.run(y,feed_dict={x:test_x})\n",
    "    mse = tf.reduce_mean(tf.square(pred_y - test_y))\n",
    "    mse_ = sess.run(mse)\n",
    "    mse_history.append(mse_)\n",
    "    accuracy = sess.run(accuracy,feed_dict={x: train_x, y_true:train_y})\n",
    "    accuracy_history.append(accuracy)\n",
    "    \n",
    "    print('epoch: ',epoch,' - ','cost:',cost,' -MSE:',mse_,\" -Train Accuracy: \",accuracy)\n",
    "save_path = saver.save(sess, model_path)\n",
    "\n",
    "# Plot MSE and accuracy graph\n",
    "plt.title(\"MSE\")\n",
    "plt.plot(mse_history,'r')\n",
    "plt.show()\n",
    "plt.title(\"Accuracy\")\n",
    "plt.plot(accuracy_history)\n",
    "plt.show()\n",
    "    \n",
    "# Print the final accuracy\n",
    "correct_prediction = tf.equal(tf.argmax(y,1),tf.argmax(y_true,1))\n",
    "accuracy = tf.reduce_mean(tf.cast(correct_prediction,tf.float32))\n",
    "print(\"Test Accuracy: \",(sess.run(accuracy, feed_dict={x:test_x, y_true:test_y})))\n",
    "\n",
    "# Print final MSE\n",
    "pred_y = sess.run(y, feed_dict={x:test_x})\n",
    "mse = tf.reduce_mean(tf.square(pred_y-test_y))\n",
    "print(\"MSE: %.4f\"%sess.run(mse))"
   ]
  },
  {
   "cell_type": "code",
   "execution_count": null,
   "metadata": {},
   "outputs": [],
   "source": []
  }
 ],
 "metadata": {
  "kernelspec": {
   "display_name": "Python [default]",
   "language": "python",
   "name": "python2"
  },
  "language_info": {
   "codemirror_mode": {
    "name": "ipython",
    "version": 2
   },
   "file_extension": ".py",
   "mimetype": "text/x-python",
   "name": "python",
   "nbconvert_exporter": "python",
   "pygments_lexer": "ipython2",
   "version": "2.7.15"
  }
 },
 "nbformat": 4,
 "nbformat_minor": 2
}
